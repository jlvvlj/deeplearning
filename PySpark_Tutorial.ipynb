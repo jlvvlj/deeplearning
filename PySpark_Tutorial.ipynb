{
  "nbformat": 4,
  "nbformat_minor": 0,
  "metadata": {
    "colab": {
      "name": "PySpark Tutorial",
      "provenance": [],
      "authorship_tag": "ABX9TyMECU5Ad59mDo2xPrMF/U4j",
      "include_colab_link": true
    },
    "kernelspec": {
      "name": "python3",
      "display_name": "Python 3"
    },
    "language_info": {
      "name": "python"
    }
  },
  "cells": [
    {
      "cell_type": "markdown",
      "metadata": {
        "id": "view-in-github",
        "colab_type": "text"
      },
      "source": [
        "<a href=\"https://colab.research.google.com/github/jlvvlj/deeplearning/blob/master/PySpark_Tutorial.ipynb\" target=\"_parent\"><img src=\"https://colab.research.google.com/assets/colab-badge.svg\" alt=\"Open In Colab\"/></a>"
      ]
    },
    {
      "cell_type": "code",
      "metadata": {
        "colab": {
          "base_uri": "https://localhost:8080/"
        },
        "id": "Sp9SfvmeikJR",
        "outputId": "3b075748-c686-4c9e-b5fc-e6b852b231d0"
      },
      "source": [
        "!pip install pyspark"
      ],
      "execution_count": 6,
      "outputs": [
        {
          "output_type": "stream",
          "text": [
            "Collecting pyspark\n",
            "  Downloading pyspark-3.1.2.tar.gz (212.4 MB)\n",
            "\u001b[K     |████████████████████████████████| 212.4 MB 63 kB/s \n",
            "\u001b[?25hCollecting py4j==0.10.9\n",
            "  Downloading py4j-0.10.9-py2.py3-none-any.whl (198 kB)\n",
            "\u001b[K     |████████████████████████████████| 198 kB 22.7 MB/s \n",
            "\u001b[?25hBuilding wheels for collected packages: pyspark\n",
            "  Building wheel for pyspark (setup.py) ... \u001b[?25l\u001b[?25hdone\n",
            "  Created wheel for pyspark: filename=pyspark-3.1.2-py2.py3-none-any.whl size=212880768 sha256=7f49ab7cb76476ef7608d064e0ab7441528ca207c19f3524e8f23fd1f7aac67e\n",
            "  Stored in directory: /root/.cache/pip/wheels/a5/0a/c1/9561f6fecb759579a7d863dcd846daaa95f598744e71b02c77\n",
            "Successfully built pyspark\n",
            "Installing collected packages: py4j, pyspark\n",
            "Successfully installed py4j-0.10.9 pyspark-3.1.2\n"
          ],
          "name": "stdout"
        }
      ]
    },
    {
      "cell_type": "code",
      "metadata": {
        "id": "OP_kPXWDi1qN"
      },
      "source": [
        "import csv  \n",
        "\n",
        "header = ['name', 'age']\n",
        "data = [\n",
        "    ['Jack', 28],\n",
        "    ['Paul', 23],\n",
        "    ['Cindy', 19],\n",
        "]\n",
        "\n",
        "with open('people.csv', 'w', encoding='UTF8', newline='') as f:\n",
        "    writer = csv.writer(f)\n",
        "\n",
        "    # write the header\n",
        "    writer.writerow(header)\n",
        "\n",
        "    # write the data\n",
        "    writer.writerows(data)"
      ],
      "execution_count": 2,
      "outputs": []
    },
    {
      "cell_type": "code",
      "metadata": {
        "id": "zb3eA6BYkLVv"
      },
      "source": [
        "import pandas as pd"
      ],
      "execution_count": 3,
      "outputs": []
    },
    {
      "cell_type": "code",
      "metadata": {
        "colab": {
          "base_uri": "https://localhost:8080/",
          "height": 143
        },
        "id": "SYu93aKUkf4T",
        "outputId": "e839ee3d-5522-42ad-b943-7fb1c80cf18b"
      },
      "source": [
        "pd.read_csv('people.csv')"
      ],
      "execution_count": 4,
      "outputs": [
        {
          "output_type": "execute_result",
          "data": {
            "text/html": [
              "<div>\n",
              "<style scoped>\n",
              "    .dataframe tbody tr th:only-of-type {\n",
              "        vertical-align: middle;\n",
              "    }\n",
              "\n",
              "    .dataframe tbody tr th {\n",
              "        vertical-align: top;\n",
              "    }\n",
              "\n",
              "    .dataframe thead th {\n",
              "        text-align: right;\n",
              "    }\n",
              "</style>\n",
              "<table border=\"1\" class=\"dataframe\">\n",
              "  <thead>\n",
              "    <tr style=\"text-align: right;\">\n",
              "      <th></th>\n",
              "      <th>name</th>\n",
              "      <th>age</th>\n",
              "    </tr>\n",
              "  </thead>\n",
              "  <tbody>\n",
              "    <tr>\n",
              "      <th>0</th>\n",
              "      <td>Jack</td>\n",
              "      <td>28</td>\n",
              "    </tr>\n",
              "    <tr>\n",
              "      <th>1</th>\n",
              "      <td>Paul</td>\n",
              "      <td>23</td>\n",
              "    </tr>\n",
              "    <tr>\n",
              "      <th>2</th>\n",
              "      <td>Cindy</td>\n",
              "      <td>19</td>\n",
              "    </tr>\n",
              "  </tbody>\n",
              "</table>\n",
              "</div>"
            ],
            "text/plain": [
              "    name  age\n",
              "0   Jack   28\n",
              "1   Paul   23\n",
              "2  Cindy   19"
            ]
          },
          "metadata": {},
          "execution_count": 4
        }
      ]
    },
    {
      "cell_type": "code",
      "metadata": {
        "id": "mSpLRRmloiO7"
      },
      "source": [
        "from pyspark.sql import SparkSession"
      ],
      "execution_count": 7,
      "outputs": []
    },
    {
      "cell_type": "code",
      "metadata": {
        "id": "TkgZKDXarF1I"
      },
      "source": [
        "spark=SparkSession.builder.appName('Practice').getOrCreate()"
      ],
      "execution_count": 8,
      "outputs": []
    },
    {
      "cell_type": "code",
      "metadata": {
        "colab": {
          "base_uri": "https://localhost:8080/",
          "height": 219
        },
        "id": "QIYBH9mqrabg",
        "outputId": "e52478f2-1b55-46fb-8041-2095bd062537"
      },
      "source": [
        "spark"
      ],
      "execution_count": 9,
      "outputs": [
        {
          "output_type": "execute_result",
          "data": {
            "text/html": [
              "\n",
              "            <div>\n",
              "                <p><b>SparkSession - in-memory</b></p>\n",
              "                \n",
              "        <div>\n",
              "            <p><b>SparkContext</b></p>\n",
              "\n",
              "            <p><a href=\"http://baafb1466a4b:4040\">Spark UI</a></p>\n",
              "\n",
              "            <dl>\n",
              "              <dt>Version</dt>\n",
              "                <dd><code>v3.1.2</code></dd>\n",
              "              <dt>Master</dt>\n",
              "                <dd><code>local[*]</code></dd>\n",
              "              <dt>AppName</dt>\n",
              "                <dd><code>Practice</code></dd>\n",
              "            </dl>\n",
              "        </div>\n",
              "        \n",
              "            </div>\n",
              "        "
            ],
            "text/plain": [
              "<pyspark.sql.session.SparkSession at 0x7fafbe1c1a90>"
            ]
          },
          "metadata": {},
          "execution_count": 9
        }
      ]
    },
    {
      "cell_type": "code",
      "metadata": {
        "id": "h8u5955erhu8"
      },
      "source": [
        "df_pyspark=spark.read.csv('people.csv')"
      ],
      "execution_count": 11,
      "outputs": []
    },
    {
      "cell_type": "code",
      "metadata": {
        "colab": {
          "base_uri": "https://localhost:8080/"
        },
        "id": "E56aJbihryg1",
        "outputId": "de2e2b74-2adb-475b-bc53-d1dd3e3768e7"
      },
      "source": [
        "df_pyspark.show()"
      ],
      "execution_count": 12,
      "outputs": [
        {
          "output_type": "stream",
          "text": [
            "+-----+---+\n",
            "|  _c0|_c1|\n",
            "+-----+---+\n",
            "| name|age|\n",
            "| Jack| 28|\n",
            "| Paul| 23|\n",
            "|Cindy| 19|\n",
            "+-----+---+\n",
            "\n"
          ],
          "name": "stdout"
        }
      ]
    },
    {
      "cell_type": "code",
      "metadata": {
        "id": "EzV_Z9JRr724"
      },
      "source": [
        "df_pyspark = spark.read.option('header', 'true').csv('people.csv')"
      ],
      "execution_count": 13,
      "outputs": []
    },
    {
      "cell_type": "code",
      "metadata": {
        "colab": {
          "base_uri": "https://localhost:8080/"
        },
        "id": "4nxzgf41sNzP",
        "outputId": "80d04e85-16b6-47cb-b63c-f57c745c3c1c"
      },
      "source": [
        "df_pyspark.head(3)"
      ],
      "execution_count": 14,
      "outputs": [
        {
          "output_type": "execute_result",
          "data": {
            "text/plain": [
              "[Row(name='Jack', age='28'),\n",
              " Row(name='Paul', age='23'),\n",
              " Row(name='Cindy', age='19')]"
            ]
          },
          "metadata": {},
          "execution_count": 14
        }
      ]
    },
    {
      "cell_type": "code",
      "metadata": {
        "colab": {
          "base_uri": "https://localhost:8080/"
        },
        "id": "uxWns-sBsYz7",
        "outputId": "81b27882-1996-451e-c982-6112320da7f9"
      },
      "source": [
        "df_pyspark.printSchema()"
      ],
      "execution_count": 15,
      "outputs": [
        {
          "output_type": "stream",
          "text": [
            "root\n",
            " |-- name: string (nullable = true)\n",
            " |-- age: string (nullable = true)\n",
            "\n"
          ],
          "name": "stdout"
        }
      ]
    },
    {
      "cell_type": "code",
      "metadata": {
        "id": "EazQv7EXtdkI"
      },
      "source": [
        "#read the dataset\n",
        "df_pyspark=spark.read.option('header', 'true').csv('people.csv', inferSchema=True)"
      ],
      "execution_count": 16,
      "outputs": []
    },
    {
      "cell_type": "code",
      "metadata": {
        "colab": {
          "base_uri": "https://localhost:8080/"
        },
        "id": "PrNyJLpBtvNh",
        "outputId": "d4e29421-4971-4134-ad1a-7b60c50dd7bd"
      },
      "source": [
        "df_pyspark.printSchema()"
      ],
      "execution_count": 17,
      "outputs": [
        {
          "output_type": "stream",
          "text": [
            "root\n",
            " |-- name: string (nullable = true)\n",
            " |-- age: integer (nullable = true)\n",
            "\n"
          ],
          "name": "stdout"
        }
      ]
    },
    {
      "cell_type": "code",
      "metadata": {
        "colab": {
          "base_uri": "https://localhost:8080/"
        },
        "id": "1Ud_yuIttzZv",
        "outputId": "f8df57bd-ee00-4777-f4c1-b98dfb680213"
      },
      "source": [
        "df_pyspark.show()"
      ],
      "execution_count": 18,
      "outputs": [
        {
          "output_type": "stream",
          "text": [
            "+-----+---+\n",
            "| name|age|\n",
            "+-----+---+\n",
            "| Jack| 28|\n",
            "| Paul| 23|\n",
            "|Cindy| 19|\n",
            "+-----+---+\n",
            "\n"
          ],
          "name": "stdout"
        }
      ]
    },
    {
      "cell_type": "code",
      "metadata": {
        "colab": {
          "base_uri": "https://localhost:8080/"
        },
        "id": "vM6M6lq5uSLB",
        "outputId": "aba08644-e883-4c11-e41f-0864062913d1"
      },
      "source": [
        "df_pyspark.columns"
      ],
      "execution_count": 19,
      "outputs": [
        {
          "output_type": "execute_result",
          "data": {
            "text/plain": [
              "['name', 'age']"
            ]
          },
          "metadata": {},
          "execution_count": 19
        }
      ]
    },
    {
      "cell_type": "code",
      "metadata": {
        "colab": {
          "base_uri": "https://localhost:8080/"
        },
        "id": "BudQJ2q5vHES",
        "outputId": "a1726a97-9735-4946-f759-763885647c55"
      },
      "source": [
        "df_pyspark.select('Name').show()"
      ],
      "execution_count": 20,
      "outputs": [
        {
          "output_type": "stream",
          "text": [
            "+-----+\n",
            "| Name|\n",
            "+-----+\n",
            "| Jack|\n",
            "| Paul|\n",
            "|Cindy|\n",
            "+-----+\n",
            "\n"
          ],
          "name": "stdout"
        }
      ]
    },
    {
      "cell_type": "code",
      "metadata": {
        "colab": {
          "base_uri": "https://localhost:8080/"
        },
        "id": "kBoiI1JUvSLX",
        "outputId": "7c54530a-ba61-4723-f65f-9a56b29c7f3f"
      },
      "source": [
        "df_pyspark.select(['Name', 'Age']).show()"
      ],
      "execution_count": 21,
      "outputs": [
        {
          "output_type": "stream",
          "text": [
            "+-----+---+\n",
            "| Name|Age|\n",
            "+-----+---+\n",
            "| Jack| 28|\n",
            "| Paul| 23|\n",
            "|Cindy| 19|\n",
            "+-----+---+\n",
            "\n"
          ],
          "name": "stdout"
        }
      ]
    },
    {
      "cell_type": "code",
      "metadata": {
        "colab": {
          "base_uri": "https://localhost:8080/"
        },
        "id": "um8xwhz7vgBF",
        "outputId": "5c29f365-1ea1-44ee-eed2-e26bed3b8c92"
      },
      "source": [
        "df_pyspark.select('Age').dtypes"
      ],
      "execution_count": 22,
      "outputs": [
        {
          "output_type": "execute_result",
          "data": {
            "text/plain": [
              "[('Age', 'int')]"
            ]
          },
          "metadata": {},
          "execution_count": 22
        }
      ]
    },
    {
      "cell_type": "code",
      "metadata": {
        "colab": {
          "base_uri": "https://localhost:8080/"
        },
        "id": "VgQen24rwEXo",
        "outputId": "5dd0e29c-5521-4ce9-b030-f4a9666da044"
      },
      "source": [
        "df_pyspark.describe().show()"
      ],
      "execution_count": 23,
      "outputs": [
        {
          "output_type": "stream",
          "text": [
            "+-------+-----+------------------+\n",
            "|summary| name|               age|\n",
            "+-------+-----+------------------+\n",
            "|  count|    3|                 3|\n",
            "|   mean| null|23.333333333333332|\n",
            "| stddev| null| 4.509249752822894|\n",
            "|    min|Cindy|                19|\n",
            "|    max| Paul|                28|\n",
            "+-------+-----+------------------+\n",
            "\n"
          ],
          "name": "stdout"
        }
      ]
    },
    {
      "cell_type": "code",
      "metadata": {
        "id": "sLA5m8OqwK3k"
      },
      "source": [
        "#adding a column to the dataframe\n",
        "\n",
        "experiences = [('Jack', 15), ('Paul', 4), ('Cindy', 1)]\n",
        "\n",
        "experiences_df = spark.createDataFrame(experiences, ['Name', 'Experience'])\n",
        "data = df_pyspark.join(experiences_df, 'Name')"
      ],
      "execution_count": 41,
      "outputs": []
    },
    {
      "cell_type": "code",
      "metadata": {
        "colab": {
          "base_uri": "https://localhost:8080/"
        },
        "id": "gayqsHGO8Kq2",
        "outputId": "8c2230ee-2a43-45fa-c82b-f7624f71ec13"
      },
      "source": [
        "data.show()"
      ],
      "execution_count": 42,
      "outputs": [
        {
          "output_type": "stream",
          "text": [
            "+-----+---+----------+\n",
            "| name|age|Experience|\n",
            "+-----+---+----------+\n",
            "| Jack| 28|        15|\n",
            "| Paul| 23|         4|\n",
            "|Cindy| 19|         1|\n",
            "+-----+---+----------+\n",
            "\n"
          ],
          "name": "stdout"
        }
      ]
    },
    {
      "cell_type": "code",
      "metadata": {
        "id": "GC2k_6NK3SRV"
      },
      "source": [
        "#adding a column from existing column to the dataframe\n",
        "data = data.withColumn('Experience after 2 years', data['Experience'] + 2 )"
      ],
      "execution_count": 45,
      "outputs": []
    },
    {
      "cell_type": "code",
      "metadata": {
        "id": "kwhBuYOpAogG"
      },
      "source": [
        "#remove a column\n",
        "data = data.drop(data['Experience'])"
      ],
      "execution_count": 46,
      "outputs": []
    },
    {
      "cell_type": "code",
      "metadata": {
        "colab": {
          "base_uri": "https://localhost:8080/"
        },
        "id": "OuYKHooq-OSg",
        "outputId": "079271f6-4cdb-46de-afff-54bb4f5c5ef6"
      },
      "source": [
        "data.show()"
      ],
      "execution_count": 47,
      "outputs": [
        {
          "output_type": "stream",
          "text": [
            "+-----+---+------------------------+\n",
            "| name|age|Experience after 2 years|\n",
            "+-----+---+------------------------+\n",
            "| Jack| 28|                      17|\n",
            "| Paul| 23|                       6|\n",
            "|Cindy| 19|                       3|\n",
            "+-----+---+------------------------+\n",
            "\n"
          ],
          "name": "stdout"
        }
      ]
    },
    {
      "cell_type": "code",
      "metadata": {
        "id": "XYn7re4i-QNQ"
      },
      "source": [
        "data = data.withColumnRenamed('Experience after 2 years', 'Work Experience')"
      ],
      "execution_count": 50,
      "outputs": []
    },
    {
      "cell_type": "code",
      "metadata": {
        "colab": {
          "base_uri": "https://localhost:8080/"
        },
        "id": "IB0CA_xPAIcE",
        "outputId": "e2194203-97b3-4842-c8a0-3bcbf30ce5e4"
      },
      "source": [
        "data.show()"
      ],
      "execution_count": 51,
      "outputs": [
        {
          "output_type": "stream",
          "text": [
            "+-----+---+---------------+\n",
            "| name|age|Work Experience|\n",
            "+-----+---+---------------+\n",
            "| Jack| 28|             17|\n",
            "| Paul| 23|              6|\n",
            "|Cindy| 19|              3|\n",
            "+-----+---+---------------+\n",
            "\n"
          ],
          "name": "stdout"
        }
      ]
    },
    {
      "cell_type": "code",
      "metadata": {
        "id": "CttvfN25AK_n"
      },
      "source": [
        "salaries = [('Jack', 50000),('Paul', 70000),('Cindy', 1000000)]\n",
        "salaries_df = spark.createDataFrame(salaries, ['Name', 'Salary'])"
      ],
      "execution_count": 72,
      "outputs": []
    },
    {
      "cell_type": "code",
      "metadata": {
        "colab": {
          "base_uri": "https://localhost:8080/"
        },
        "id": "mJ0WzRRtBKXK",
        "outputId": "9d66a20a-4a37-4e21-9ced-270ed620052c"
      },
      "source": [
        "salaries_df.show()"
      ],
      "execution_count": 60,
      "outputs": [
        {
          "output_type": "stream",
          "text": [
            "+-----+-------+\n",
            "| Name| Salary|\n",
            "+-----+-------+\n",
            "| Jack|  50000|\n",
            "| Paul|  70000|\n",
            "|Cindy|1000000|\n",
            "+-----+-------+\n",
            "\n"
          ],
          "name": "stdout"
        }
      ]
    },
    {
      "cell_type": "code",
      "metadata": {
        "id": "rAxbD5KpBOBM"
      },
      "source": [
        "data = data.join(salaries_df, 'Name')"
      ],
      "execution_count": 61,
      "outputs": []
    },
    {
      "cell_type": "code",
      "metadata": {
        "colab": {
          "base_uri": "https://localhost:8080/"
        },
        "id": "akR4msPpBeoJ",
        "outputId": "06305871-b4aa-4f3c-8863-0cb1de9a1d3c"
      },
      "source": [
        "data.show()"
      ],
      "execution_count": 62,
      "outputs": [
        {
          "output_type": "stream",
          "text": [
            "+-----+---+---------------+-------+-------+\n",
            "| name|age|Work Experience| Salary| Salary|\n",
            "+-----+---+---------------+-------+-------+\n",
            "| Jack| 28|             17|  50000|  50000|\n",
            "|Cindy| 19|              3|1000000|1000000|\n",
            "| Paul| 23|              6|  70000|  70000|\n",
            "+-----+---+---------------+-------+-------+\n",
            "\n"
          ],
          "name": "stdout"
        }
      ]
    },
    {
      "cell_type": "code",
      "metadata": {
        "colab": {
          "base_uri": "https://localhost:8080/"
        },
        "id": "hDcLQE-oBgfz",
        "outputId": "0cf44709-8932-4099-c19c-59e4a505af55"
      },
      "source": [
        "##drop na values\n",
        "data.na.drop().show()"
      ],
      "execution_count": 65,
      "outputs": [
        {
          "output_type": "stream",
          "text": [
            "+-----+---+---------------+\n",
            "| name|age|Work Experience|\n",
            "+-----+---+---------------+\n",
            "| Jack| 28|             17|\n",
            "|Cindy| 19|              3|\n",
            "| Paul| 23|              6|\n",
            "+-----+---+---------------+\n",
            "\n"
          ],
          "name": "stdout"
        }
      ]
    },
    {
      "cell_type": "code",
      "metadata": {
        "colab": {
          "base_uri": "https://localhost:8080/"
        },
        "id": "_On3kJymC764",
        "outputId": "60c871b5-efcd-43bc-f87f-55d5a600c8cf"
      },
      "source": [
        "##all or any\n",
        "data.na.drop(how=\"any\").show()"
      ],
      "execution_count": 66,
      "outputs": [
        {
          "output_type": "stream",
          "text": [
            "+-----+---+---------------+\n",
            "| name|age|Work Experience|\n",
            "+-----+---+---------------+\n",
            "| Jack| 28|             17|\n",
            "|Cindy| 19|              3|\n",
            "| Paul| 23|              6|\n",
            "+-----+---+---------------+\n",
            "\n"
          ],
          "name": "stdout"
        }
      ]
    },
    {
      "cell_type": "code",
      "metadata": {
        "colab": {
          "base_uri": "https://localhost:8080/"
        },
        "id": "h4pejA5MC_C6",
        "outputId": "94753f19-ec7a-42e9-a424-e946eb3ad51e"
      },
      "source": [
        "##threshold\n",
        "data.na.drop(how=\"any\",thresh=3).show()"
      ],
      "execution_count": 67,
      "outputs": [
        {
          "output_type": "stream",
          "text": [
            "+-----+---+---------------+\n",
            "| name|age|Work Experience|\n",
            "+-----+---+---------------+\n",
            "| Jack| 28|             17|\n",
            "|Cindy| 19|              3|\n",
            "| Paul| 23|              6|\n",
            "+-----+---+---------------+\n",
            "\n"
          ],
          "name": "stdout"
        }
      ]
    },
    {
      "cell_type": "code",
      "metadata": {
        "colab": {
          "base_uri": "https://localhost:8080/"
        },
        "id": "6mCLgwBhDCXw",
        "outputId": "d394ed43-4840-4c74-e3e8-1c67493903ce"
      },
      "source": [
        "##Subset\n",
        "data.na.drop(how=\"any\",subset=['Age']).show()"
      ],
      "execution_count": 68,
      "outputs": [
        {
          "output_type": "stream",
          "text": [
            "+-----+---+---------------+\n",
            "| name|age|Work Experience|\n",
            "+-----+---+---------------+\n",
            "| Jack| 28|             17|\n",
            "|Cindy| 19|              3|\n",
            "| Paul| 23|              6|\n",
            "+-----+---+---------------+\n",
            "\n"
          ],
          "name": "stdout"
        }
      ]
    },
    {
      "cell_type": "code",
      "metadata": {
        "colab": {
          "base_uri": "https://localhost:8080/"
        },
        "id": "bbveZ71iDcFq",
        "outputId": "d3560aa2-e4ee-4928-d0f8-fe71b94fe2e5"
      },
      "source": [
        "## Filling the Missing Value\n",
        "data.na.fill('Missing Values',['Work Experience','age']).show()"
      ],
      "execution_count": 70,
      "outputs": [
        {
          "output_type": "stream",
          "text": [
            "+-----+---+---------------+\n",
            "| name|age|Work Experience|\n",
            "+-----+---+---------------+\n",
            "| Jack| 28|             17|\n",
            "|Cindy| 19|              3|\n",
            "| Paul| 23|              6|\n",
            "+-----+---+---------------+\n",
            "\n"
          ],
          "name": "stdout"
        }
      ]
    },
    {
      "cell_type": "code",
      "metadata": {
        "colab": {
          "base_uri": "https://localhost:8080/"
        },
        "id": "06iwj6goYtwh",
        "outputId": "4f639877-c0d1-4e2e-9720-7d6d1199f438"
      },
      "source": [
        "!pip install pyspark"
      ],
      "execution_count": 6,
      "outputs": [
        {
          "output_type": "stream",
          "text": [
            "Collecting pyspark\n",
            "  Downloading pyspark-3.1.2.tar.gz (212.4 MB)\n",
            "\u001b[K     |████████████████████████████████| 212.4 MB 62 kB/s \n",
            "\u001b[?25hCollecting py4j==0.10.9\n",
            "  Downloading py4j-0.10.9-py2.py3-none-any.whl (198 kB)\n",
            "\u001b[K     |████████████████████████████████| 198 kB 52.6 MB/s \n",
            "\u001b[?25hBuilding wheels for collected packages: pyspark\n",
            "  Building wheel for pyspark (setup.py) ... \u001b[?25l\u001b[?25hdone\n",
            "  Created wheel for pyspark: filename=pyspark-3.1.2-py2.py3-none-any.whl size=212880768 sha256=cd94bdf38e51c4b6403c6e877ecfc675ab91ce74c168e5a53e38aac9e2f701b8\n",
            "  Stored in directory: /root/.cache/pip/wheels/a5/0a/c1/9561f6fecb759579a7d863dcd846daaa95f598744e71b02c77\n",
            "Successfully built pyspark\n",
            "Installing collected packages: py4j, pyspark\n",
            "Successfully installed py4j-0.10.9 pyspark-3.1.2\n"
          ],
          "name": "stdout"
        }
      ]
    },
    {
      "cell_type": "code",
      "metadata": {
        "id": "_GAzQM90DqOT"
      },
      "source": [
        "import csv  \n",
        "\n",
        "header = ['name', 'size']\n",
        "data = [\n",
        "    ['Jack', 158],\n",
        "    ['Paul', 123],\n",
        "    ['Cindy', 191],\n",
        "    ['Mary']\n",
        "]\n",
        "\n",
        "with open('heights.csv', 'w', encoding='UTF8', newline='') as f:\n",
        "    writer = csv.writer(f)\n",
        "\n",
        "    # write the header\n",
        "    writer.writerow(header)\n",
        "\n",
        "    # write the data\n",
        "    writer.writerows(data)"
      ],
      "execution_count": 7,
      "outputs": []
    },
    {
      "cell_type": "code",
      "metadata": {
        "id": "PuDycTi_FRXN"
      },
      "source": [
        "from pyspark.sql import SparkSession"
      ],
      "execution_count": 8,
      "outputs": []
    },
    {
      "cell_type": "code",
      "metadata": {
        "id": "O5VdALLqFlIN"
      },
      "source": [
        "spark = SparkSession.builder.appName('Heights').getOrCreate()"
      ],
      "execution_count": 9,
      "outputs": []
    },
    {
      "cell_type": "code",
      "metadata": {
        "colab": {
          "base_uri": "https://localhost:8080/",
          "height": 219
        },
        "id": "Hs3catJXF_uh",
        "outputId": "4be236a0-79ea-4f74-bb83-7786ce819db8"
      },
      "source": [
        "spark"
      ],
      "execution_count": 10,
      "outputs": [
        {
          "output_type": "execute_result",
          "data": {
            "text/html": [
              "\n",
              "            <div>\n",
              "                <p><b>SparkSession - in-memory</b></p>\n",
              "                \n",
              "        <div>\n",
              "            <p><b>SparkContext</b></p>\n",
              "\n",
              "            <p><a href=\"http://fa87f26f189f:4040\">Spark UI</a></p>\n",
              "\n",
              "            <dl>\n",
              "              <dt>Version</dt>\n",
              "                <dd><code>v3.1.2</code></dd>\n",
              "              <dt>Master</dt>\n",
              "                <dd><code>local[*]</code></dd>\n",
              "              <dt>AppName</dt>\n",
              "                <dd><code>Heights</code></dd>\n",
              "            </dl>\n",
              "        </div>\n",
              "        \n",
              "            </div>\n",
              "        "
            ],
            "text/plain": [
              "<pyspark.sql.session.SparkSession at 0x7f9fbaaaac10>"
            ]
          },
          "metadata": {},
          "execution_count": 10
        }
      ]
    },
    {
      "cell_type": "code",
      "metadata": {
        "id": "2-7y80IiGA3M"
      },
      "source": [
        "heights_df = spark.read.csv('heights.csv',  header=True, inferSchema=True)"
      ],
      "execution_count": 18,
      "outputs": []
    },
    {
      "cell_type": "code",
      "metadata": {
        "id": "YMuOnAv2GNFT"
      },
      "source": [
        "data = heights_df"
      ],
      "execution_count": 23,
      "outputs": []
    },
    {
      "cell_type": "code",
      "metadata": {
        "id": "me_AsJGYGUFV"
      },
      "source": [
        "#data = heights_df.na.drop(how='any')"
      ],
      "execution_count": 24,
      "outputs": []
    },
    {
      "cell_type": "code",
      "metadata": {
        "colab": {
          "base_uri": "https://localhost:8080/"
        },
        "id": "JbxrS_HhGxIV",
        "outputId": "0a9ddf7e-9b84-40d5-a021-500ceaf47a7a"
      },
      "source": [
        "data.show()"
      ],
      "execution_count": 25,
      "outputs": [
        {
          "output_type": "stream",
          "text": [
            "+-----+----+\n",
            "| name|size|\n",
            "+-----+----+\n",
            "| Jack| 158|\n",
            "| Paul| 123|\n",
            "|Cindy| 191|\n",
            "| Mary|null|\n",
            "+-----+----+\n",
            "\n"
          ],
          "name": "stdout"
        }
      ]
    },
    {
      "cell_type": "code",
      "metadata": {
        "id": "1OanrNrjHzyV"
      },
      "source": [
        "#replace missing values with calculated value ( here mean of size is used)\n",
        "\n",
        "from pyspark.ml.feature import Imputer\n",
        "\n",
        "imputer = Imputer(\n",
        "    inputCols=['size'],\n",
        "    outputCols=[\"{}_imputed\".format(c) for c in ['size']],\n",
        ").setStrategy('mean')"
      ],
      "execution_count": 26,
      "outputs": []
    },
    {
      "cell_type": "code",
      "metadata": {
        "colab": {
          "base_uri": "https://localhost:8080/"
        },
        "id": "NDuSHkt1KF5d",
        "outputId": "fabe8c46-9fc2-4f50-c989-a241136f3080"
      },
      "source": [
        "imputer.fit(data).transform(data).show()"
      ],
      "execution_count": 27,
      "outputs": [
        {
          "output_type": "stream",
          "text": [
            "+-----+----+------------+\n",
            "| name|size|size_imputed|\n",
            "+-----+----+------------+\n",
            "| Jack| 158|         158|\n",
            "| Paul| 123|         123|\n",
            "|Cindy| 191|         191|\n",
            "| Mary|null|         157|\n",
            "+-----+----+------------+\n",
            "\n"
          ],
          "name": "stdout"
        }
      ]
    },
    {
      "cell_type": "code",
      "metadata": {
        "id": "xhjhO4OrK31O"
      },
      "source": [
        ""
      ],
      "execution_count": null,
      "outputs": []
    }
  ]
}